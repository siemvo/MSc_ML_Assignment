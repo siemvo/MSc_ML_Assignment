{
 "cells": [
  {
   "cell_type": "code",
   "execution_count": 3,
   "id": "5f369a4e",
   "metadata": {},
   "outputs": [
    {
     "name": "stdout",
     "output_type": "stream",
     "text": [
      "c:\\Users\\vonks\\OneDrive\\Documents\\! Code\\Course 5 ML\\Final_regression\n"
     ]
    }
   ],
   "source": [
    "# Install these packages if you haven't already!\n",
    "\n",
    "# pip install pandas\n",
    "# pip install scikit-learn\n",
    "# pip install joblib\n",
    "# pip install numpy\n",
    "# pip install xgboost\n",
    "\n",
    "# __author__    = \"Siem Vonk\"\n",
    "# __studentID__ = \"i6290798\"\n",
    "\n",
    "import pandas as pd\n",
    "import numpy as np\n",
    "from sklearn.metrics import mean_squared_error, r2_score\n",
    "import joblib\n",
    "\n",
    "import os\n",
    "print(os.getcwd())"
   ]
  },
  {
   "cell_type": "markdown",
   "id": "56c2fade",
   "metadata": {},
   "source": [
    "## Import new data"
   ]
  },
  {
   "cell_type": "code",
   "execution_count": 15,
   "id": "c359caaa",
   "metadata": {},
   "outputs": [],
   "source": [
    "# Input new data here:\n",
    "data_new = pd.read_csv(\"test_set.csv\")\n",
    "\n",
    "# Keep only the columns in the list in the same order (these had too many missing for training)\n",
    "with open(\"columns_to_keep.txt\") as f:\n",
    "    columns_to_keep = [line.strip() for line in f]\n",
    "data_new = data_new[columns_to_keep]\n",
    "\n",
    "X_new = data_new.drop(columns=['Viability'])\n",
    "y_new = data_new['Viability']\n",
    "\n",
    "# Load trained preprocessing models\n",
    "imputer = joblib.load(\"imputer.pkl\")\n",
    "encoder = joblib.load(\"encoder.pkl\")\n",
    "scaler = joblib.load(\"scaler.pkl\")\n",
    "feature_order = joblib.load(\"feature_order.pkl\")\n",
    "\n",
    "# Impute missing values\n",
    "X_new_imputed = pd.DataFrame(\n",
    "    imputer.transform(X_new),\n",
    "    columns=X_new.columns,\n",
    "    index=X_new.index\n",
    ")\n",
    "\n",
    "# Encode categorical variables\n",
    "categorical_cols = X_new.select_dtypes(include='object').columns\n",
    "X_new_encoded = pd.DataFrame(\n",
    "    encoder.transform(X_new_imputed[categorical_cols]),\n",
    "    columns=encoder.get_feature_names_out(categorical_cols),\n",
    "    index=X_new.index\n",
    ")\n",
    "\n",
    "# Combine categorical with numeric features\n",
    "numeric_cols = X_new_imputed.select_dtypes(include=[np.number]).columns\n",
    "X_new_final = pd.concat([X_new_imputed[numeric_cols], X_new_encoded], axis=1)\n",
    "\n",
    "# Align columns to match training\n",
    "for col in feature_order:\n",
    "    if col not in X_new_final.columns:\n",
    "        X_new_final[col] = 0\n",
    "X_new_final = X_new_final[feature_order]\n",
    "\n",
    "# Scale features\n",
    "X_new_scaled = scaler.transform(X_new_final) # Forgetting this line caused me a lot of pain debugging\n",
    "X_new_scaled_df = pd.DataFrame(X_new_scaled, columns=X_new_final.columns, index=X_new_final.index)"
   ]
  },
  {
   "cell_type": "code",
   "execution_count": 16,
   "id": "364a01d6",
   "metadata": {},
   "outputs": [
    {
     "name": "stdout",
     "output_type": "stream",
     "text": [
      "            Model         MSE  R² Score Saved\n",
      "0  Ensemble Stack  462.779608  0.560766   Yes\n",
      "1   Random Forest  470.374591  0.553557   Yes\n",
      "2    Ensemble AVG  507.077500  0.518722    No\n",
      "3             KNN  639.341146  0.393188   Yes\n",
      "4             MLP  648.866790  0.384147   Yes\n",
      "5         XGBoost  703.059802  0.332711   Yes\n",
      "6     Elastic Net  784.124789  0.255771    No\n",
      "7           Lasso  784.124789  0.255771   Yes\n",
      "8           Ridge  784.614778  0.255305    No\n",
      "9             SVR  972.709483  0.076781    No\n"
     ]
    }
   ],
   "source": [
    "# Load model results (Saved = No are not saved due to low performance and better alternatives)\n",
    "model_results = pd.read_csv(\"model_results.csv\")\n",
    "print(model_results)"
   ]
  },
  {
   "cell_type": "code",
   "execution_count": 25,
   "id": "4c9ae7db",
   "metadata": {},
   "outputs": [
    {
     "name": "stdout",
     "output_type": "stream",
     "text": [
      "Random Forest Regression Results\n",
      "Mean Squared Error (MSE): 471.54\n",
      "R² Score: 0.55\n"
     ]
    }
   ],
   "source": [
    "# Random Forest Regression\n",
    "rf_model = joblib.load(\"random_forest.pkl\")\n",
    "y_pred_new = rf_model.predict(X_new_scaled_df)\n",
    "mse = mean_squared_error(y_new, y_pred_new)\n",
    "r2 = r2_score(y_new, y_pred_new)\n",
    "\n",
    "print(\"Random Forest Regression Results\")\n",
    "print(f\"Mean Squared Error (MSE): {mse:.2f}\")\n",
    "print(f\"R² Score: {r2:.2f}\")\n"
   ]
  },
  {
   "cell_type": "code",
   "execution_count": null,
   "id": "5b227b68",
   "metadata": {},
   "outputs": [
    {
     "name": "stdout",
     "output_type": "stream",
     "text": [
      "Stacking Regressor Results\n",
      "MSE: 462.46\n",
      "R² Score: 0.56\n"
     ]
    }
   ],
   "source": [
    "# Ensemble Stack (RF, KNN, MLP)\n",
    "stack = joblib.load(\"stack.pkl\")\n",
    "stack_preds = stack.predict(X_new_scaled_df)\n",
    "mse_stack = mean_squared_error(y_new, stack_preds)\n",
    "r2_stack = r2_score(y_new, stack_preds)\n",
    "\n",
    "print(\"Stacking Regressor Results\")\n",
    "print(f\"MSE: {mse_stack:.2f}\")\n",
    "print(f\"R² Score: {r2_stack:.2f}\")\n"
   ]
  },
  {
   "cell_type": "code",
   "execution_count": 41,
   "id": "3ebe0a66",
   "metadata": {},
   "outputs": [
    {
     "name": "stdout",
     "output_type": "stream",
     "text": [
      "KNN Results\n",
      "MSE: 639.34\n",
      "R² Score: 0.39\n"
     ]
    }
   ],
   "source": [
    "# KNN\n",
    "knn = joblib.load(\"knn.pkl\")\n",
    "knn_preds = knn.predict(X_new_scaled_df)\n",
    "mse_knn = mean_squared_error(y_new, knn_preds)\n",
    "r2_knn = r2_score(y_new, knn_preds)\n",
    "\n",
    "print(\"KNN Results\")\n",
    "print(f\"MSE: {mse_knn:.2f}\")\n",
    "print(f\"R² Score: {r2_knn:.2f}\")"
   ]
  },
  {
   "cell_type": "code",
   "execution_count": 27,
   "id": "aba35b47",
   "metadata": {},
   "outputs": [
    {
     "name": "stdout",
     "output_type": "stream",
     "text": [
      "MLP Results\n",
      "MSE: 650.15\n",
      "R² Score: 0.38\n"
     ]
    }
   ],
   "source": [
    "# MLP (Neural Network)\n",
    "mlp = joblib.load(\"mlp.pkl\")\n",
    "mlp_preds = mlp.predict(X_new_scaled_df)\n",
    "mse_mlp = mean_squared_error(y_new, mlp_preds)\n",
    "r2_mlp = r2_score(y_new, mlp_preds)\n",
    "\n",
    "print(\"MLP Results\")\n",
    "print(f\"MSE: {mse_mlp:.2f}\")\n",
    "print(f\"R² Score: {r2_mlp:.2f}\")"
   ]
  },
  {
   "cell_type": "code",
   "execution_count": 28,
   "id": "6cf3cfb1",
   "metadata": {},
   "outputs": [
    {
     "name": "stdout",
     "output_type": "stream",
     "text": [
      "LASSO Results\n",
      "MSE: 783.39\n",
      "R² Score: 0.26\n"
     ]
    }
   ],
   "source": [
    "# LASSO (L1 Regularization)\n",
    "lasso = joblib.load(\"lasso.pkl\")\n",
    "lasso_preds = lasso.predict(X_new_scaled_df)\n",
    "mse_lasso = mean_squared_error(y_new, lasso_preds)\n",
    "r2_lasso = r2_score(y_new, lasso_preds)\n",
    "\n",
    "print(\"LASSO Results\")\n",
    "print(f\"MSE: {mse_lasso:.2f}\")\n",
    "print(f\"R² Score: {r2_lasso:.2f}\")"
   ]
  },
  {
   "cell_type": "markdown",
   "id": "289e401e",
   "metadata": {},
   "source": [
    "## All code from here down was used for training"
   ]
  },
  {
   "cell_type": "markdown",
   "id": "c8627b00",
   "metadata": {},
   "source": [
    "## Training of the models"
   ]
  },
  {
   "cell_type": "code",
   "execution_count": 3,
   "id": "57038267",
   "metadata": {},
   "outputs": [
    {
     "name": "stdout",
     "output_type": "stream",
     "text": [
      "NP_type                  0\n",
      "Coating               6133\n",
      "core_size_nm           644\n",
      "hydro_size_nm         6804\n",
      "Surf_charge_mV        4779\n",
      "Surface_area_m2_g     8380\n",
      "shape                 5511\n",
      "Dose_microg_mL         165\n",
      "Duration_h             277\n",
      "Cell_name                0\n",
      "Cell_species             0\n",
      "cell_Organ               0\n",
      "Cell_morphology         17\n",
      "Cell_age               596\n",
      "cell_type               77\n",
      "sex                   2429\n",
      "Assay                    0\n",
      "Test_indicator         195\n",
      "nanomaterial_group       0\n",
      "Viability                0\n",
      "dtype: int64\n"
     ]
    }
   ],
   "source": [
    "data_original = pd.read_csv(\"data_regression_train_df.csv\")\n",
    "data = data_original.dropna(subset=['Viability']) # 0 missing rows for viability\n",
    "\n",
    "# Missing values for each variable\n",
    "missing_values = data.isnull().sum()\n",
    "print(missing_values)\n",
    "\n",
    "# Select variables with less than 3000 missing values (around 1/3rd of the samples)\n",
    "columns_to_keep = missing_values[missing_values < 3000].index\n",
    "data = data[columns_to_keep]\n",
    "\n",
    "# Export columns to keep for new data (not included in training so they have to be removed)\n",
    "columns_to_keep.to_series().to_csv(\"columns_to_keep.txt\", index=False, header=False)"
   ]
  },
  {
   "cell_type": "code",
   "execution_count": 13,
   "id": "f56b9f8e",
   "metadata": {},
   "outputs": [],
   "source": [
    "from sklearn.model_selection import train_test_split\n",
    "\n",
    "# Separate features and target\n",
    "X = data.drop(columns=['Viability'])\n",
    "y = data['Viability']\n",
    "\n",
    "# Split the data into training and testing sets\n",
    "X_train, X_test, y_train, y_test = train_test_split(X, y, test_size=0.2, random_state=123)"
   ]
  },
  {
   "cell_type": "code",
   "execution_count": 4,
   "id": "8b9c40c8",
   "metadata": {},
   "outputs": [],
   "source": [
    "# Export test set for testing new data pipeline (should return same results)\n",
    "test_df = X_test.copy()\n",
    "test_df['Viability'] = y_test\n",
    "test_df.to_csv(\"test_set.csv\", index=False) # You can import this at the top to test"
   ]
  },
  {
   "cell_type": "code",
   "execution_count": 14,
   "id": "806a8064",
   "metadata": {},
   "outputs": [
    {
     "data": {
      "text/plain": [
       "['imputer.pkl']"
      ]
     },
     "execution_count": 14,
     "metadata": {},
     "output_type": "execute_result"
    }
   ],
   "source": [
    "# Impute X_train and use the same fitted imputer for X_test\n",
    "from assignment_functions import assignment_impute\n",
    "imputer = assignment_impute(max_iter=10)\n",
    "\n",
    "X_train= imputer.fit_transform(X_train)\n",
    "X_test = imputer.transform(X_test)\n",
    "\n",
    "# Save the imputer for new data\n",
    "joblib.dump(imputer, 'imputer.pkl')"
   ]
  },
  {
   "cell_type": "code",
   "execution_count": 6,
   "id": "ad84b5b5",
   "metadata": {},
   "outputs": [
    {
     "data": {
      "text/plain": [
       "['feature_order.pkl']"
      ]
     },
     "execution_count": 6,
     "metadata": {},
     "output_type": "execute_result"
    }
   ],
   "source": [
    "# Encode categorical variables\n",
    "from sklearn.preprocessing import OneHotEncoder\n",
    "\n",
    "# Encode based on training data only\n",
    "categorical_cols = X_train.select_dtypes(include='object').columns\n",
    "\n",
    "encoder = OneHotEncoder(sparse_output=False, handle_unknown='ignore') # Ignore any unknown categories in new data\n",
    "\n",
    "X_train_encoded = pd.DataFrame(\n",
    "    encoder.fit_transform(X_train[categorical_cols]),\n",
    "    columns=encoder.get_feature_names_out(categorical_cols),\n",
    "    index=X_train.index\n",
    ")\n",
    "\n",
    "X_test_encoded = pd.DataFrame(\n",
    "    encoder.transform(X_test[categorical_cols]),\n",
    "    columns=encoder.get_feature_names_out(categorical_cols),\n",
    "    index=X_test.index\n",
    ")\n",
    "\n",
    "# Find indices of numeric columns in X_train (same as X_test)\n",
    "numeric_cols = X_train.select_dtypes(include=[np.number]).columns\n",
    "\n",
    "# Merge encoded categorical features and the numeric features\n",
    "X_train_final = pd.concat([X_train[numeric_cols], X_train_encoded], axis=1) # axis = 1 horizontal\n",
    "X_test_final = pd.concat([X_test[numeric_cols], X_test_encoded], axis=1)\n",
    "\n",
    "# Save the encoder and feature order\n",
    "joblib.dump(encoder, 'encoder.pkl')\n",
    "joblib.dump(X_train_final.columns.tolist(), 'feature_order.pkl')\n"
   ]
  },
  {
   "cell_type": "code",
   "execution_count": 7,
   "id": "12834077",
   "metadata": {},
   "outputs": [],
   "source": [
    "# Scaling X_train and X_test \n",
    "\n",
    "from sklearn.preprocessing import StandardScaler\n",
    "\n",
    "scaler = StandardScaler() # Mean=0, std=1\n",
    "X_train_scaled = scaler.fit_transform(X_train_final)\n",
    "X_test_scaled = scaler.transform(X_test_final)\n",
    "joblib.dump(scaler, 'scaler.pkl') # Save the scaler for new data\n",
    "\n",
    "# Convert back to dataframes with column names and index preserved\n",
    "X_train_scaled_df = pd.DataFrame(X_train_scaled, columns=X_train_final.columns, index=X_train_final.index)\n",
    "X_test_scaled_df = pd.DataFrame(X_test_scaled, columns=X_test_final.columns, index=X_test_final.index)\n",
    "\n"
   ]
  },
  {
   "cell_type": "code",
   "execution_count": null,
   "id": "633e4447",
   "metadata": {},
   "outputs": [
    {
     "name": "stdout",
     "output_type": "stream",
     "text": [
      "Lasso Regression Results\n",
      "Mean Squared Error (MSE): 783.39\n",
      "R² Score: 0.26\n",
      "Best Lasso alpha: 0.1\n"
     ]
    },
    {
     "data": {
      "text/plain": [
       "['lasso.pkl']"
      ]
     },
     "execution_count": 8,
     "metadata": {},
     "output_type": "execute_result"
    }
   ],
   "source": [
    "# Lasso (took around 3 seconds)\n",
    "from sklearn.linear_model import LassoCV\n",
    "\n",
    "param_grid_lasso = {\n",
    "    'alpha': [0.01, 0.1, 0.5, 1, 10, 100, 1000]\n",
    "}\n",
    "\n",
    "# Lasso regression with cross-validation kfold 5\n",
    "lasso_cv = LassoCV(alphas=param_grid_lasso['alpha'], cv=5, random_state=1, max_iter=5000)\n",
    "lasso_cv.fit(X_train_scaled_df, y_train)\n",
    "\n",
    "y_pred_lasso = lasso_cv.predict(X_test_scaled_df)\n",
    "\n",
    "lasso_best = lasso_cv.alpha_\n",
    "mse_lasso = mean_squared_error(y_test, y_pred_lasso)\n",
    "r2_lasso = r2_score(y_test, y_pred_lasso)\n",
    "\n",
    "print(\"Lasso Regression Results\")\n",
    "print(f\"Mean Squared Error (MSE): {mse_lasso:.2f}\")\n",
    "print(f\"R² Score: {r2_lasso:.2f}\")\n",
    "print(f\"Best Lasso alpha: {lasso_best}\")\n",
    "\n",
    "Betas_Lasso = pd.Series(lasso_cv.coef_, index=X_train_scaled_df.columns)\n",
    "Betas_Lasso = Betas_Lasso.abs().sort_values(ascending=False)\n",
    "Betas_Lasso.head(5)\n",
    "\n",
    "# Save the model\n",
    "joblib.dump(lasso_cv, 'lasso.pkl')"
   ]
  },
  {
   "cell_type": "code",
   "execution_count": 29,
   "id": "eaba484e",
   "metadata": {},
   "outputs": [
    {
     "name": "stdout",
     "output_type": "stream",
     "text": [
      "Ridge Regression Results\n",
      "Mean Squared Error (MSE): 784.21\n",
      "R² Score: 0.26\n",
      "Best Ridge alpha: 1000.0\n"
     ]
    },
    {
     "data": {
      "text/plain": [
       "NP_type_Ag            3.704867\n",
       "NP_type_Dendrimer     3.528715\n",
       "NP_type_EudragitRL    3.359812\n",
       "NP_type_CdTe          3.008252\n",
       "Assay_MTS             2.792514\n",
       "dtype: float64"
      ]
     },
     "execution_count": 29,
     "metadata": {},
     "output_type": "execute_result"
    }
   ],
   "source": [
    "# Ridge (took around 3 seconds)\n",
    "from sklearn.linear_model import RidgeCV\n",
    "\n",
    "param_grid_ridge = {\n",
    "    'alpha': [0.01, 0.1, 0.5, 1, 10, 100, 1000]\n",
    "}\n",
    "\n",
    "# Ridge regression with 5-fold CV\n",
    "ridge_cv = RidgeCV(alphas=param_grid_ridge['alpha'], cv=5)\n",
    "ridge_cv.fit(X_train_scaled_df, y_train)\n",
    "\n",
    "y_pred_ridge = ridge_cv.predict(X_test_scaled_df)\n",
    "\n",
    "ridge_best = ridge_cv.alpha_\n",
    "mse_ridge = mean_squared_error(y_test, y_pred_ridge)\n",
    "r2_ridge = r2_score(y_test, y_pred_ridge)\n",
    "\n",
    "print(\"Ridge Regression Results\")\n",
    "print(f\"Mean Squared Error (MSE): {mse_ridge:.2f}\")\n",
    "print(f\"R² Score: {r2_ridge:.2f}\")\n",
    "print(f\"Best Ridge alpha: {ridge_best}\")\n",
    "\n",
    "Betas_Ridge = pd.Series(ridge_cv.coef_, index=X_train_scaled_df.columns)\n",
    "Betas_Ridge = Betas_Ridge.abs().sort_values(ascending=False)\n",
    "Betas_Ridge.head(5)\n",
    "\n",
    "\n",
    "# Around the same as lasso\n"
   ]
  },
  {
   "cell_type": "code",
   "execution_count": 10,
   "id": "4b5ab082",
   "metadata": {},
   "outputs": [],
   "source": [
    "# Elastic Net (took around 2 minutes)\n",
    "from sklearn.model_selection import GridSearchCV\n",
    "from sklearn.linear_model import ElasticNet\n",
    "\n",
    "EN = ElasticNet(random_state=1, max_iter=5000)\n",
    "param_grid_EN = {\n",
    "    'alpha': [0.01, 0.1, 0.5, 1, 10, 100],\n",
    "    'l1_ratio': [0.1, 0.3, 0.6, 0.9, 1.0]  # Lasso (l1_ratio=1) to Ridge (=0)\n",
    "}\n",
    "\n",
    "# EN regression with cross-validation kfold 5\n",
    "EN_cv = GridSearchCV(EN, param_grid_EN, cv=5, scoring='neg_mean_squared_error')\n",
    "EN_cv.fit(X_train_scaled_df, y_train)\n",
    "\n",
    "y_pred_EN = EN_cv.predict(X_test_scaled_df)"
   ]
  },
  {
   "cell_type": "code",
   "execution_count": 11,
   "id": "d5cfc464",
   "metadata": {},
   "outputs": [
    {
     "name": "stdout",
     "output_type": "stream",
     "text": [
      "Mean Squared Error (MSE): 784.12\n",
      "R² Score = 0.26\n",
      "Best alpha: 0.1 and l1_ratio: 1.0\n"
     ]
    },
    {
     "data": {
      "text/plain": [
       "core_size_nm      0.697225\n",
       "Dose_microg_mL   -2.859275\n",
       "Duration_h       -3.160244\n",
       "NP_type_Ag       -4.915592\n",
       "NP_type_Al2O3     0.403925\n",
       "dtype: float64"
      ]
     },
     "execution_count": 11,
     "metadata": {},
     "output_type": "execute_result"
    }
   ],
   "source": [
    "# EN results\n",
    "\n",
    "mse_EN = mean_squared_error(y_test, y_pred_EN)\n",
    "r2_EN = r2_score(y_test, y_pred_EN)\n",
    "\n",
    "best_params_EN = EN_cv.best_params_\n",
    "best_alpha_EN = best_params_EN['alpha']\n",
    "best_l1_ratio_EN = best_params_EN['l1_ratio']\n",
    "\n",
    "print(f\"Mean Squared Error (MSE): {mse_EN:.2f}\")\n",
    "print(f\"R² Score = {r2_EN:.2f}\")\n",
    "print(f\"Best alpha: {best_alpha_EN} and l1_ratio: {best_l1_ratio_EN}\")\n",
    "\n",
    "# Get the best ElasticNet model from GridSearchCV\n",
    "best_en_model = EN_cv.best_estimator_\n",
    "\n",
    "Betas_EN = pd.Series(best_en_model.coef_, index=X_train_scaled_df.columns)\n",
    "Betas_EN.head(5)\n",
    "\n",
    "# Lasso seems to perform better and is a lot faster so EN is not saved\n"
   ]
  },
  {
   "cell_type": "code",
   "execution_count": 10,
   "id": "baf144e5",
   "metadata": {},
   "outputs": [
    {
     "name": "stdout",
     "output_type": "stream",
     "text": [
      "Random Forest Regression Results\n",
      "Mean Squared Error (MSE): 471.5396\n",
      "R^2 Score: 0.5525\n"
     ]
    }
   ],
   "source": [
    "# Random Forest (took around 3 seconds)\n",
    "\n",
    "from sklearn.ensemble import RandomForestRegressor\n",
    "\n",
    "# Using default (MSE) criterion for regression\n",
    "rf = RandomForestRegressor(\n",
    "    n_estimators=100,\n",
    "    random_state=123,\n",
    "    n_jobs=-1\n",
    ")\n",
    "\n",
    "rf.fit(X_train_scaled_df, y_train)\n",
    "y_pred_rf = rf.predict(X_test_scaled_df)\n",
    "joblib.dump(rf, 'random_forest.pkl')\n",
    "\n",
    "mse_rf = mean_squared_error(y_test, y_pred_rf)\n",
    "r2_rf = r2_score(y_test, y_pred_rf)\n",
    "\n",
    "print(f\"Random Forest Regression Results\")\n",
    "print(f\"Mean Squared Error (MSE): {mse_rf:.4f}\")\n",
    "print(f\"R^2 Score: {r2_rf:.4f}\")\n"
   ]
  },
  {
   "cell_type": "code",
   "execution_count": null,
   "id": "cacde771",
   "metadata": {},
   "outputs": [
    {
     "name": "stdout",
     "output_type": "stream",
     "text": [
      "XGBoost Regression Results:\n",
      "Mean Squared Error (MSE): 702.6405\n",
      "R² Score: 0.3331\n"
     ]
    }
   ],
   "source": [
    "# xgboost \n",
    "from xgboost import XGBRegressor\n",
    "from sklearn.metrics import mean_squared_error, r2_score\n",
    "\n",
    "xgb_model = XGBRegressor(n_estimators=100, learning_rate=0.1, max_depth=3, random_state=1)\n",
    "xgb_model.fit(X_train_scaled_df, y_train)\n",
    "\n",
    "y_pred_xgb = xgb_model.predict(X_test_scaled_df)\n",
    "joblib.dump(xgb_model, 'xgb.pkl')\n",
    "\n",
    "mse_xgb = mean_squared_error(y_test, y_pred_xgb)\n",
    "r2_xgb = r2_score(y_test, y_pred_xgb)\n",
    "\n",
    "print(\"XGBoost Regression Results:\")\n",
    "print(f\"Mean Squared Error (MSE): {mse_xgb:.4f}\")\n",
    "print(f\"R² Score: {r2_xgb:.4f}\")\n",
    "\n",
    "# Worse than random forest but better than lasso and EN (R2 of 0.33)\n"
   ]
  },
  {
   "cell_type": "code",
   "execution_count": null,
   "id": "af74c9b0",
   "metadata": {},
   "outputs": [
    {
     "name": "stdout",
     "output_type": "stream",
     "text": [
      "\n",
      "SVR Regression Results:\n",
      "Mean Squared Error (MSE): 972.7095\n",
      "R² Score: 0.0768\n"
     ]
    }
   ],
   "source": [
    "from sklearn.svm import SVR\n",
    "\n",
    "# SVR model (RBF kernel is default)\n",
    "svr = SVR(C=1.0, epsilon=0.1)\n",
    "svr.fit(X_train_scaled_df, y_train)\n",
    "\n",
    "y_pred_svr = svr.predict(X_test_scaled_df)\n",
    "\n",
    "mse_svr = mean_squared_error(y_test, y_pred_svr)\n",
    "r2_svr = r2_score(y_test, y_pred_svr)\n",
    "\n",
    "print(\"\\nSVR Regression Results:\")\n",
    "print(f\"Mean Squared Error (MSE): {mse_svr:.4f}\")\n",
    "print(f\"R² Score: {r2_svr:.4f}\")\n",
    "\n",
    "# very low R2 score (0.08) so not saved\n"
   ]
  },
  {
   "cell_type": "code",
   "execution_count": 12,
   "id": "6274aa3d",
   "metadata": {},
   "outputs": [
    {
     "name": "stdout",
     "output_type": "stream",
     "text": [
      "KNN Regression Results\n",
      "Mean Squared Error (MSE): 640.59\n",
      "R² Score: 0.39\n"
     ]
    },
    {
     "data": {
      "text/plain": [
       "['knn.pkl']"
      ]
     },
     "execution_count": 12,
     "metadata": {},
     "output_type": "execute_result"
    }
   ],
   "source": [
    "# KNN regression (almost instant)\n",
    "\n",
    "from sklearn.neighbors import KNeighborsRegressor\n",
    "\n",
    "knn = KNeighborsRegressor(n_neighbors=5)\n",
    "knn.fit(X_train_scaled_df, y_train)\n",
    "\n",
    "y_pred_knn = knn.predict(X_test_scaled_df)\n",
    "mse_knn = mean_squared_error(y_test, y_pred_knn)\n",
    "r2_knn = r2_score(y_test, y_pred_knn)\n",
    "\n",
    "print(\"KNN Regression Results\")\n",
    "print(f\"Mean Squared Error (MSE): {mse_knn:.2f}\")\n",
    "print(f\"R² Score: {r2_knn:.2f}\")\n",
    "\n",
    "# Decent R2 score (0.39)\n",
    "joblib.dump(knn, 'knn.pkl')\n"
   ]
  },
  {
   "cell_type": "code",
   "execution_count": null,
   "id": "5180a142",
   "metadata": {},
   "outputs": [],
   "source": [
    "# Neural Network (MLP) regression (took around 1 minute)\n",
    "from sklearn.neural_network import MLPRegressor\n",
    "\n",
    "# Multi-layer Perceptron regressor with one hidden layer of 100 neurons, ReLU activation\n",
    "mlp = MLPRegressor(hidden_layer_sizes=(100,), max_iter=1000, random_state=123)\n",
    "mlp.fit(X_train_scaled_df, y_train)\n",
    "\n",
    "# Predict\n",
    "y_pred_mlp = mlp.predict(X_test_scaled_df)"
   ]
  },
  {
   "cell_type": "code",
   "execution_count": null,
   "id": "35c094f0",
   "metadata": {},
   "outputs": [
    {
     "name": "stdout",
     "output_type": "stream",
     "text": [
      "Neural Network Regression Results\n",
      "Mean Squared Error (MSE): 648.87\n",
      "R² Score: 0.38\n"
     ]
    },
    {
     "data": {
      "text/plain": [
       "['mlp.pkl']"
      ]
     },
     "execution_count": 21,
     "metadata": {},
     "output_type": "execute_result"
    }
   ],
   "source": [
    "# Neural Networks Evaluation\n",
    "mse_mlp = mean_squared_error(y_test, y_pred_mlp)\n",
    "r2_mlp = r2_score(y_test, y_pred_mlp)\n",
    "\n",
    "print(\"Neural Network Regression Results\")\n",
    "print(f\"Mean Squared Error (MSE): {mse_mlp:.2f}\")\n",
    "print(f\"R² Score: {r2_mlp:.2f}\")\n",
    "\n",
    "# Decent R2 score (0.39)\n",
    "joblib.dump(mlp, 'mlp.pkl')"
   ]
  },
  {
   "cell_type": "code",
   "execution_count": 22,
   "id": "f6e297d1",
   "metadata": {},
   "outputs": [
    {
     "name": "stdout",
     "output_type": "stream",
     "text": [
      "           Model         MSE  R² Score\n",
      "3  Random Forest  470.374591  0.553557\n",
      "6            KNN  639.341146  0.393188\n",
      "7            MLP  648.866790  0.384147\n",
      "4        XGBoost  703.059802  0.332711\n",
      "0          Lasso  784.124789  0.255771\n",
      "2    Elastic Net  784.124789  0.255771\n",
      "1          Ridge  784.614778  0.255305\n",
      "5            SVR  972.709483  0.076781\n"
     ]
    }
   ],
   "source": [
    "# Overview of all models\n",
    "results = pd.DataFrame({\n",
    "    'Model': ['Lasso', 'Ridge', 'Elastic Net', 'Random Forest', 'XGBoost', 'SVR', 'KNN', 'MLP'],\n",
    "    'MSE': [mse_lasso, mse_ridge, mse_EN, mse_rf, mse_xgb, mse_svr, mse_knn, mse_mlp],\n",
    "    'R² Score': [r2_lasso, r2_ridge, r2_EN, r2_rf, r2_xgb, r2_svr, r2_knn, r2_mlp]\n",
    "})\n",
    "results = results.sort_values(by='R² Score', ascending=False)\n",
    "print(results)"
   ]
  },
  {
   "cell_type": "code",
   "execution_count": null,
   "id": "8af84275",
   "metadata": {},
   "outputs": [
    {
     "name": "stdout",
     "output_type": "stream",
     "text": [
      "Ensemble (Averaging) Results\n",
      "MSE: 507.08\n",
      "R² Score: 0.52\n"
     ]
    }
   ],
   "source": [
    "# Ensemble (Averaging) of Random Forest, KNN, and MLP\n",
    "preds_rf = rf.predict(X_test_scaled_df)\n",
    "preds_knn = knn.predict(X_test_scaled_df)\n",
    "preds_mlp = mlp.predict(X_test_scaled_df)\n",
    "\n",
    "# Simple average (unweighted)\n",
    "ensemble_preds = (preds_rf + preds_knn + preds_mlp) / 3\n",
    "\n",
    "# Evaluation\n",
    "mse_ensemble = mean_squared_error(y_test, ensemble_preds)\n",
    "r2_ensemble = r2_score(y_test, ensemble_preds)\n",
    "\n",
    "print(\"Ensemble (Averaging) Results\")\n",
    "print(f\"MSE: {mse_ensemble:.2f}\")\n",
    "print(f\"R² Score: {r2_ensemble:.2f}\")\n",
    "\n",
    "# R2 of 0.52 which is lower than RF\n"
   ]
  },
  {
   "cell_type": "code",
   "execution_count": 38,
   "id": "46fdf7e5",
   "metadata": {},
   "outputs": [
    {
     "name": "stdout",
     "output_type": "stream",
     "text": [
      "Stacking Regressor Results\n",
      "MSE: 462.78\n",
      "R² Score: 0.56\n"
     ]
    },
    {
     "data": {
      "text/plain": [
       "['stack.pkl']"
      ]
     },
     "execution_count": 38,
     "metadata": {},
     "output_type": "execute_result"
    }
   ],
   "source": [
    "# Ensemble with stacking (took around 2.5 minutes)\n",
    "from sklearn.ensemble import StackingRegressor\n",
    "from sklearn.linear_model import LinearRegression\n",
    "\n",
    "estimators = [\n",
    "    ('rf', rf),\n",
    "    ('knn', knn),\n",
    "    ('mlp', mlp),\n",
    "]\n",
    "\n",
    "# Define meta-learner\n",
    "stack = StackingRegressor(\n",
    "    estimators=estimators,\n",
    "    final_estimator=LinearRegression(),\n",
    "    cv=5,\n",
    "    n_jobs=-1\n",
    ")\n",
    "\n",
    "stack.fit(X_train_scaled_df, y_train)\n",
    "\n",
    "# Predict and evaluate\n",
    "stack_preds = stack.predict(X_test_scaled_df)\n",
    "mse_stack = mean_squared_error(y_test, stack_preds)\n",
    "r2_stack = r2_score(y_test, stack_preds)\n",
    "\n",
    "print(\"Stacking Regressor Results\")\n",
    "print(f\"MSE: {mse_stack:.2f}\")\n",
    "print(f\"R² Score: {r2_stack:.2f}\")\n",
    "\n",
    "# R2 score of 0.56 (best one so far)\n",
    "joblib.dump(stack, 'stack.pkl')"
   ]
  },
  {
   "cell_type": "code",
   "execution_count": 39,
   "id": "21596ad2",
   "metadata": {},
   "outputs": [
    {
     "name": "stdout",
     "output_type": "stream",
     "text": [
      "            Model         MSE  R² Score Saved\n",
      "9  Ensemble Stack  462.779608  0.560766   Yes\n",
      "3   Random Forest  470.374591  0.553557   Yes\n",
      "8    Ensemble AVG  507.077500  0.518722    No\n",
      "6             KNN  639.341146  0.393188   Yes\n",
      "7             MLP  648.866790  0.384147   Yes\n",
      "4         XGBoost  703.059802  0.332711   Yes\n",
      "2     Elastic Net  784.124789  0.255771    No\n",
      "0           Lasso  784.124789  0.255771   Yes\n",
      "1           Ridge  784.614778  0.255305    No\n",
      "5             SVR  972.709483  0.076781    No\n"
     ]
    }
   ],
   "source": [
    "# Overview of all models (now including ensembles)\n",
    "results = pd.DataFrame({\n",
    "    'Model': ['Lasso', 'Ridge', 'Elastic Net', 'Random Forest', 'XGBoost', 'SVR', 'KNN', 'MLP', 'Ensemble AVG', 'Ensemble Stack'],\n",
    "    'MSE': [mse_lasso, mse_ridge, mse_EN, mse_rf, mse_xgb, mse_svr, mse_knn, mse_mlp, mse_ensemble, mse_stack],\n",
    "    'R² Score': [r2_lasso, r2_ridge, r2_EN, r2_rf, r2_xgb, r2_svr, r2_knn, r2_mlp, r2_ensemble, r2_stack],\n",
    "    'Saved': ['Yes', 'No', 'No', 'Yes', 'Yes', 'No', 'Yes', 'Yes', 'No', 'Yes']\n",
    "})\n",
    "\n",
    "results = results.sort_values(by='R² Score', ascending=False)\n",
    "results.to_csv(\"model_results.csv\", index=False)\n",
    "print(results)"
   ]
  },
  {
   "cell_type": "markdown",
   "id": "2b08fe4d",
   "metadata": {},
   "source": [
    "## Figures"
   ]
  },
  {
   "cell_type": "code",
   "execution_count": 1,
   "id": "607daccc",
   "metadata": {},
   "outputs": [],
   "source": [
    "## Y_test line and y_pred line with samples on x axis\n",
    "import matplotlib.pyplot as plt\n",
    "import seaborn as sns"
   ]
  },
  {
   "cell_type": "code",
   "execution_count": 5,
   "id": "3ebc5bcc",
   "metadata": {},
   "outputs": [
    {
     "data": {
      "text/plain": [
       "Text(0.5, 0, 'R² Score')"
      ]
     },
     "execution_count": 5,
     "metadata": {},
     "output_type": "execute_result"
    },
    {
     "data": {
      "image/png": "[encoded data removed]",
      "text/plain": [
       "<Figure size 1000x600 with 1 Axes>"
      ]
     },
     "metadata": {},
     "output_type": "display_data"
    }
   ],
   "source": [
    "# Bar chart of R² scores\n",
    "\n",
    "results = pd.read_csv(\"model_results.csv\")\n",
    "plt.figure(figsize=(10, 6))\n",
    "sns.barplot(x='R² Score', y='Model', data=results, hue='Model', palette='viridis', legend=False)\n",
    "plt.title('R² Scores of Different Models')\n",
    "plt.xlabel('R² Score')"
   ]
  }
 ],
 "metadata": {
  "kernelspec": {
   "display_name": "Python 3",
   "language": "python",
   "name": "python3"
  },
  "language_info": {
   "codemirror_mode": {
    "name": "ipython",
    "version": 3
   },
   "file_extension": ".py",
   "mimetype": "text/x-python",
   "name": "python",
   "nbconvert_exporter": "python",
   "pygments_lexer": "ipython3",
   "version": "3.13.1"
  }
 },
 "nbformat": 4,
 "nbformat_minor": 5
}
